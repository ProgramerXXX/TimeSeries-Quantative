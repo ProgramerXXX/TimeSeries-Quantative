{
  "nbformat": 4,
  "nbformat_minor": 0,
  "metadata": {
    "colab": {
      "name": "TimeSeries-Forcasting-Modek.ipynb",
      "provenance": []
    },
    "kernelspec": {
      "name": "python3",
      "display_name": "Python 3"
    },
    "language_info": {
      "name": "python"
    },
    "accelerator": "GPU"
  },
  "cells": [
    {
      "cell_type": "code",
      "execution_count": null,
      "metadata": {
        "colab": {
          "base_uri": "https://localhost:8080/"
        },
        "id": "9L8LT74bKXVF",
        "outputId": "0a2d9da2-938e-4824-f239-801e9d3b3102"
      },
      "outputs": [
        {
          "output_type": "stream",
          "name": "stdout",
          "text": [
            "Cloning into 'time-series-forecasting-with-python'...\n",
            "remote: Enumerating objects: 521, done.\u001b[K\n",
            "remote: Counting objects: 100% (64/64), done.\u001b[K\n",
            "remote: Compressing objects: 100% (54/54), done.\u001b[K\n",
            "remote: Total 521 (delta 21), reused 32 (delta 10), pack-reused 457\u001b[K\n",
            "Receiving objects: 100% (521/521), 50.67 MiB | 37.60 MiB/s, done.\n",
            "Resolving deltas: 100% (209/209), done.\n"
          ]
        }
      ],
      "source": [
        "!git clone https://github.com/jiwidi/time-series-forecasting-with-python.git"
      ]
    },
    {
      "cell_type": "code",
      "source": [
        "!pip install -r /content/time-series-forecasting-with-python/requirements.txt"
      ],
      "metadata": {
        "colab": {
          "base_uri": "https://localhost:8080/",
          "height": 1000
        },
        "id": "5F5USC7iLdS7",
        "outputId": "50fef306-b767-4eb3-fb54-ef97ee38ad1c"
      },
      "execution_count": 30,
      "outputs": [
        {
          "output_type": "stream",
          "name": "stdout",
          "text": [
            "Requirement already satisfied: tqdm==4.59 in /usr/local/lib/python3.7/dist-packages (from -r /content/time-series-forecasting-with-python/requirements.txt (line 1)) (4.59.0)\n",
            "Requirement already satisfied: pydantic==1.6.2 in /usr/local/lib/python3.7/dist-packages (from -r /content/time-series-forecasting-with-python/requirements.txt (line 2)) (1.6.2)\n",
            "Requirement already satisfied: pystan==2.19.1.1 in /usr/local/lib/python3.7/dist-packages (from -r /content/time-series-forecasting-with-python/requirements.txt (line 3)) (2.19.1.1)\n",
            "Requirement already satisfied: requests==2.25 in /usr/local/lib/python3.7/dist-packages (from -r /content/time-series-forecasting-with-python/requirements.txt (line 4)) (2.25.0)\n",
            "Requirement already satisfied: xgboost==1.1 in /usr/local/lib/python3.7/dist-packages (from -r /content/time-series-forecasting-with-python/requirements.txt (line 5)) (1.1.0)\n",
            "Requirement already satisfied: fbprophet==0.7 in /usr/local/lib/python3.7/dist-packages (from -r /content/time-series-forecasting-with-python/requirements.txt (line 6)) (0.7)\n",
            "Requirement already satisfied: lightgbm==3.2 in /usr/local/lib/python3.7/dist-packages (from -r /content/time-series-forecasting-with-python/requirements.txt (line 7)) (3.2.0)\n",
            "Requirement already satisfied: bayesian-optimization==1.2 in /usr/local/lib/python3.7/dist-packages (from -r /content/time-series-forecasting-with-python/requirements.txt (line 8)) (1.2.0)\n",
            "Requirement already satisfied: pandas==1.2 in /usr/local/lib/python3.7/dist-packages (from -r /content/time-series-forecasting-with-python/requirements.txt (line 9)) (1.2.0)\n",
            "Requirement already satisfied: holidays==0.11.1 in /usr/local/lib/python3.7/dist-packages (from -r /content/time-series-forecasting-with-python/requirements.txt (line 10)) (0.11.1)\n",
            "Requirement already satisfied: python-dateutil==2.8.0 in /usr/local/lib/python3.7/dist-packages (from -r /content/time-series-forecasting-with-python/requirements.txt (line 11)) (2.8.0)\n",
            "Requirement already satisfied: numpy in /usr/local/lib/python3.7/dist-packages (from -r /content/time-series-forecasting-with-python/requirements.txt (line 12)) (1.19.5)\n",
            "Requirement already satisfied: scipy==1.4 in /usr/local/lib/python3.7/dist-packages (from -r /content/time-series-forecasting-with-python/requirements.txt (line 13)) (1.4.0)\n",
            "Requirement already satisfied: mxnet~=1.8 in /usr/local/lib/python3.7/dist-packages (from -r /content/time-series-forecasting-with-python/requirements.txt (line 14)) (1.9.0)\n",
            "Requirement already satisfied: gluonts==0.6 in /usr/local/lib/python3.7/dist-packages (from -r /content/time-series-forecasting-with-python/requirements.txt (line 15)) (0.6.0)\n",
            "Requirement already satisfied: tensorflow==2.5.2 in /usr/local/lib/python3.7/dist-packages (from -r /content/time-series-forecasting-with-python/requirements.txt (line 16)) (2.5.2)\n",
            "Requirement already satisfied: scikit-learn==0.24 in /usr/local/lib/python3.7/dist-packages (from -r /content/time-series-forecasting-with-python/requirements.txt (line 17)) (0.24.0)\n",
            "Collecting matplotlib==3.4\n",
            "  Using cached matplotlib-3.4.0-cp37-cp37m-manylinux1_x86_64.whl (10.3 MB)\n",
            "Requirement already satisfied: statsmodels==0.12.1 in /usr/local/lib/python3.7/dist-packages (from -r /content/time-series-forecasting-with-python/requirements.txt (line 19)) (0.12.1)\n",
            "Requirement already satisfied: beautifultable==1.0 in /usr/local/lib/python3.7/dist-packages (from -r /content/time-series-forecasting-with-python/requirements.txt (line 20)) (1.0.0)\n",
            "Requirement already satisfied: tabulate==0.8 in /usr/local/lib/python3.7/dist-packages (from -r /content/time-series-forecasting-with-python/requirements.txt (line 21)) (0.8.0)\n",
            "Requirement already satisfied: pmdarima==1.8 in /usr/local/lib/python3.7/dist-packages (from -r /content/time-series-forecasting-with-python/requirements.txt (line 22)) (1.8.0)\n",
            "Requirement already satisfied: shap==0.39 in /usr/local/lib/python3.7/dist-packages (from -r /content/time-series-forecasting-with-python/requirements.txt (line 23)) (0.39.0)\n",
            "Requirement already satisfied: Jinja2==2.11.3 in /usr/local/lib/python3.7/dist-packages (from -r /content/time-series-forecasting-with-python/requirements.txt (line 24)) (2.11.3)\n",
            "Requirement already satisfied: Cython!=0.25.1,>=0.22 in /usr/local/lib/python3.7/dist-packages (from pystan==2.19.1.1->-r /content/time-series-forecasting-with-python/requirements.txt (line 3)) (0.29.17)\n",
            "Requirement already satisfied: urllib3<1.27,>=1.21.1 in /usr/local/lib/python3.7/dist-packages (from requests==2.25->-r /content/time-series-forecasting-with-python/requirements.txt (line 4)) (1.24.3)\n",
            "Requirement already satisfied: chardet<4,>=3.0.2 in /usr/local/lib/python3.7/dist-packages (from requests==2.25->-r /content/time-series-forecasting-with-python/requirements.txt (line 4)) (3.0.4)\n",
            "Requirement already satisfied: certifi>=2017.4.17 in /usr/local/lib/python3.7/dist-packages (from requests==2.25->-r /content/time-series-forecasting-with-python/requirements.txt (line 4)) (2021.10.8)\n",
            "Requirement already satisfied: idna<3,>=2.5 in /usr/local/lib/python3.7/dist-packages (from requests==2.25->-r /content/time-series-forecasting-with-python/requirements.txt (line 4)) (2.10)\n",
            "Requirement already satisfied: setuptools-git>=1.2 in /usr/local/lib/python3.7/dist-packages (from fbprophet==0.7->-r /content/time-series-forecasting-with-python/requirements.txt (line 6)) (1.2)\n",
            "Requirement already satisfied: LunarCalendar>=0.0.9 in /usr/local/lib/python3.7/dist-packages (from fbprophet==0.7->-r /content/time-series-forecasting-with-python/requirements.txt (line 6)) (0.0.9)\n",
            "Requirement already satisfied: cmdstanpy==0.9.5 in /usr/local/lib/python3.7/dist-packages (from fbprophet==0.7->-r /content/time-series-forecasting-with-python/requirements.txt (line 6)) (0.9.5)\n",
            "Requirement already satisfied: convertdate>=2.1.2 in /usr/local/lib/python3.7/dist-packages (from fbprophet==0.7->-r /content/time-series-forecasting-with-python/requirements.txt (line 6)) (2.4.0)\n",
            "Requirement already satisfied: wheel in /usr/local/lib/python3.7/dist-packages (from lightgbm==3.2->-r /content/time-series-forecasting-with-python/requirements.txt (line 7)) (0.37.1)\n",
            "Requirement already satisfied: pytz>=2017.3 in /usr/local/lib/python3.7/dist-packages (from pandas==1.2->-r /content/time-series-forecasting-with-python/requirements.txt (line 9)) (2022.1)\n",
            "Requirement already satisfied: six in /usr/local/lib/python3.7/dist-packages (from holidays==0.11.1->-r /content/time-series-forecasting-with-python/requirements.txt (line 10)) (1.15.0)\n",
            "Requirement already satisfied: hijri-converter in /usr/local/lib/python3.7/dist-packages (from holidays==0.11.1->-r /content/time-series-forecasting-with-python/requirements.txt (line 10)) (2.2.3)\n",
            "Requirement already satisfied: korean-lunar-calendar in /usr/local/lib/python3.7/dist-packages (from holidays==0.11.1->-r /content/time-series-forecasting-with-python/requirements.txt (line 10)) (0.2.1)\n",
            "Requirement already satisfied: toolz~=0.10 in /usr/local/lib/python3.7/dist-packages (from gluonts==0.6->-r /content/time-series-forecasting-with-python/requirements.txt (line 15)) (0.11.2)\n",
            "Requirement already satisfied: ujson~=1.35 in /usr/local/lib/python3.7/dist-packages (from gluonts==0.6->-r /content/time-series-forecasting-with-python/requirements.txt (line 15)) (1.35)\n",
            "Requirement already satisfied: tensorboard~=2.5 in /usr/local/lib/python3.7/dist-packages (from tensorflow==2.5.2->-r /content/time-series-forecasting-with-python/requirements.txt (line 16)) (2.8.0)\n",
            "Requirement already satisfied: tensorflow-estimator<2.6.0,>=2.5.0 in /usr/local/lib/python3.7/dist-packages (from tensorflow==2.5.2->-r /content/time-series-forecasting-with-python/requirements.txt (line 16)) (2.5.0)\n",
            "Requirement already satisfied: h5py~=3.1.0 in /usr/local/lib/python3.7/dist-packages (from tensorflow==2.5.2->-r /content/time-series-forecasting-with-python/requirements.txt (line 16)) (3.1.0)\n",
            "Requirement already satisfied: google-pasta~=0.2 in /usr/local/lib/python3.7/dist-packages (from tensorflow==2.5.2->-r /content/time-series-forecasting-with-python/requirements.txt (line 16)) (0.2.0)\n",
            "Requirement already satisfied: keras-nightly~=2.5.0.dev in /usr/local/lib/python3.7/dist-packages (from tensorflow==2.5.2->-r /content/time-series-forecasting-with-python/requirements.txt (line 16)) (2.5.0.dev2021032900)\n",
            "Requirement already satisfied: gast==0.4.0 in /usr/local/lib/python3.7/dist-packages (from tensorflow==2.5.2->-r /content/time-series-forecasting-with-python/requirements.txt (line 16)) (0.4.0)\n",
            "Requirement already satisfied: absl-py~=0.10 in /usr/local/lib/python3.7/dist-packages (from tensorflow==2.5.2->-r /content/time-series-forecasting-with-python/requirements.txt (line 16)) (0.15.0)\n",
            "Requirement already satisfied: keras-preprocessing~=1.1.2 in /usr/local/lib/python3.7/dist-packages (from tensorflow==2.5.2->-r /content/time-series-forecasting-with-python/requirements.txt (line 16)) (1.1.2)\n",
            "Requirement already satisfied: opt-einsum~=3.3.0 in /usr/local/lib/python3.7/dist-packages (from tensorflow==2.5.2->-r /content/time-series-forecasting-with-python/requirements.txt (line 16)) (3.3.0)\n",
            "Requirement already satisfied: typing-extensions~=3.7.4 in /usr/local/lib/python3.7/dist-packages (from tensorflow==2.5.2->-r /content/time-series-forecasting-with-python/requirements.txt (line 16)) (3.7.4.3)\n",
            "Requirement already satisfied: protobuf>=3.9.2 in /usr/local/lib/python3.7/dist-packages (from tensorflow==2.5.2->-r /content/time-series-forecasting-with-python/requirements.txt (line 16)) (3.17.3)\n",
            "Requirement already satisfied: wrapt~=1.12.1 in /usr/local/lib/python3.7/dist-packages (from tensorflow==2.5.2->-r /content/time-series-forecasting-with-python/requirements.txt (line 16)) (1.12.1)\n",
            "Requirement already satisfied: termcolor~=1.1.0 in /usr/local/lib/python3.7/dist-packages (from tensorflow==2.5.2->-r /content/time-series-forecasting-with-python/requirements.txt (line 16)) (1.1.0)\n",
            "Requirement already satisfied: flatbuffers~=1.12.0 in /usr/local/lib/python3.7/dist-packages (from tensorflow==2.5.2->-r /content/time-series-forecasting-with-python/requirements.txt (line 16)) (1.12)\n",
            "Requirement already satisfied: grpcio~=1.34.0 in /usr/local/lib/python3.7/dist-packages (from tensorflow==2.5.2->-r /content/time-series-forecasting-with-python/requirements.txt (line 16)) (1.34.1)\n",
            "Requirement already satisfied: astunparse~=1.6.3 in /usr/local/lib/python3.7/dist-packages (from tensorflow==2.5.2->-r /content/time-series-forecasting-with-python/requirements.txt (line 16)) (1.6.3)\n",
            "Requirement already satisfied: joblib>=0.11 in /usr/local/lib/python3.7/dist-packages (from scikit-learn==0.24->-r /content/time-series-forecasting-with-python/requirements.txt (line 17)) (1.1.0)\n",
            "Requirement already satisfied: threadpoolctl>=2.0.0 in /usr/local/lib/python3.7/dist-packages (from scikit-learn==0.24->-r /content/time-series-forecasting-with-python/requirements.txt (line 17)) (3.1.0)\n",
            "Requirement already satisfied: pillow>=6.2.0 in /usr/local/lib/python3.7/dist-packages (from matplotlib==3.4->-r /content/time-series-forecasting-with-python/requirements.txt (line 18)) (7.1.2)\n",
            "Requirement already satisfied: pyparsing>=2.2.1 in /usr/local/lib/python3.7/dist-packages (from matplotlib==3.4->-r /content/time-series-forecasting-with-python/requirements.txt (line 18)) (3.0.8)\n",
            "Requirement already satisfied: kiwisolver>=1.0.1 in /usr/local/lib/python3.7/dist-packages (from matplotlib==3.4->-r /content/time-series-forecasting-with-python/requirements.txt (line 18)) (1.4.2)\n",
            "Requirement already satisfied: cycler>=0.10 in /usr/local/lib/python3.7/dist-packages (from matplotlib==3.4->-r /content/time-series-forecasting-with-python/requirements.txt (line 18)) (0.11.0)\n",
            "Requirement already satisfied: patsy>=0.5 in /usr/local/lib/python3.7/dist-packages (from statsmodels==0.12.1->-r /content/time-series-forecasting-with-python/requirements.txt (line 19)) (0.5.2)\n",
            "Requirement already satisfied: wcwidth in /usr/local/lib/python3.7/dist-packages (from beautifultable==1.0->-r /content/time-series-forecasting-with-python/requirements.txt (line 20)) (0.2.5)\n",
            "Requirement already satisfied: setuptools!=50.0.0,>=38.6.0 in /usr/local/lib/python3.7/dist-packages (from pmdarima==1.8->-r /content/time-series-forecasting-with-python/requirements.txt (line 22)) (57.4.0)\n",
            "Requirement already satisfied: cloudpickle in /usr/local/lib/python3.7/dist-packages (from shap==0.39->-r /content/time-series-forecasting-with-python/requirements.txt (line 23)) (1.3.0)\n",
            "Requirement already satisfied: slicer==0.0.7 in /usr/local/lib/python3.7/dist-packages (from shap==0.39->-r /content/time-series-forecasting-with-python/requirements.txt (line 23)) (0.0.7)\n",
            "Requirement already satisfied: numba in /usr/local/lib/python3.7/dist-packages (from shap==0.39->-r /content/time-series-forecasting-with-python/requirements.txt (line 23)) (0.51.2)\n",
            "Requirement already satisfied: MarkupSafe>=0.23 in /usr/local/lib/python3.7/dist-packages (from Jinja2==2.11.3->-r /content/time-series-forecasting-with-python/requirements.txt (line 24)) (2.0.1)\n",
            "Requirement already satisfied: graphviz<0.9.0,>=0.8.1 in /usr/local/lib/python3.7/dist-packages (from mxnet~=1.8->-r /content/time-series-forecasting-with-python/requirements.txt (line 14)) (0.8.4)\n",
            "Requirement already satisfied: pymeeus<=1,>=0.3.13 in /usr/local/lib/python3.7/dist-packages (from convertdate>=2.1.2->fbprophet==0.7->-r /content/time-series-forecasting-with-python/requirements.txt (line 6)) (0.5.11)\n",
            "Requirement already satisfied: cached-property in /usr/local/lib/python3.7/dist-packages (from h5py~=3.1.0->tensorflow==2.5.2->-r /content/time-series-forecasting-with-python/requirements.txt (line 16)) (1.5.2)\n",
            "Requirement already satisfied: ephem>=3.7.5.3 in /usr/local/lib/python3.7/dist-packages (from LunarCalendar>=0.0.9->fbprophet==0.7->-r /content/time-series-forecasting-with-python/requirements.txt (line 6)) (4.1.3)\n",
            "Requirement already satisfied: markdown>=2.6.8 in /usr/local/lib/python3.7/dist-packages (from tensorboard~=2.5->tensorflow==2.5.2->-r /content/time-series-forecasting-with-python/requirements.txt (line 16)) (3.3.6)\n",
            "Requirement already satisfied: tensorboard-plugin-wit>=1.6.0 in /usr/local/lib/python3.7/dist-packages (from tensorboard~=2.5->tensorflow==2.5.2->-r /content/time-series-forecasting-with-python/requirements.txt (line 16)) (1.8.1)\n",
            "Requirement already satisfied: werkzeug>=0.11.15 in /usr/local/lib/python3.7/dist-packages (from tensorboard~=2.5->tensorflow==2.5.2->-r /content/time-series-forecasting-with-python/requirements.txt (line 16)) (1.0.1)\n",
            "Requirement already satisfied: google-auth<3,>=1.6.3 in /usr/local/lib/python3.7/dist-packages (from tensorboard~=2.5->tensorflow==2.5.2->-r /content/time-series-forecasting-with-python/requirements.txt (line 16)) (1.35.0)\n",
            "Requirement already satisfied: google-auth-oauthlib<0.5,>=0.4.1 in /usr/local/lib/python3.7/dist-packages (from tensorboard~=2.5->tensorflow==2.5.2->-r /content/time-series-forecasting-with-python/requirements.txt (line 16)) (0.4.6)\n",
            "Requirement already satisfied: tensorboard-data-server<0.7.0,>=0.6.0 in /usr/local/lib/python3.7/dist-packages (from tensorboard~=2.5->tensorflow==2.5.2->-r /content/time-series-forecasting-with-python/requirements.txt (line 16)) (0.6.1)\n",
            "Requirement already satisfied: cachetools<5.0,>=2.0.0 in /usr/local/lib/python3.7/dist-packages (from google-auth<3,>=1.6.3->tensorboard~=2.5->tensorflow==2.5.2->-r /content/time-series-forecasting-with-python/requirements.txt (line 16)) (4.2.4)\n",
            "Requirement already satisfied: rsa<5,>=3.1.4 in /usr/local/lib/python3.7/dist-packages (from google-auth<3,>=1.6.3->tensorboard~=2.5->tensorflow==2.5.2->-r /content/time-series-forecasting-with-python/requirements.txt (line 16)) (4.8)\n",
            "Requirement already satisfied: pyasn1-modules>=0.2.1 in /usr/local/lib/python3.7/dist-packages (from google-auth<3,>=1.6.3->tensorboard~=2.5->tensorflow==2.5.2->-r /content/time-series-forecasting-with-python/requirements.txt (line 16)) (0.2.8)\n",
            "Requirement already satisfied: requests-oauthlib>=0.7.0 in /usr/local/lib/python3.7/dist-packages (from google-auth-oauthlib<0.5,>=0.4.1->tensorboard~=2.5->tensorflow==2.5.2->-r /content/time-series-forecasting-with-python/requirements.txt (line 16)) (1.3.1)\n",
            "Requirement already satisfied: importlib-metadata>=4.4 in /usr/local/lib/python3.7/dist-packages (from markdown>=2.6.8->tensorboard~=2.5->tensorflow==2.5.2->-r /content/time-series-forecasting-with-python/requirements.txt (line 16)) (4.11.3)\n",
            "Requirement already satisfied: zipp>=0.5 in /usr/local/lib/python3.7/dist-packages (from importlib-metadata>=4.4->markdown>=2.6.8->tensorboard~=2.5->tensorflow==2.5.2->-r /content/time-series-forecasting-with-python/requirements.txt (line 16)) (3.8.0)\n",
            "Requirement already satisfied: pyasn1<0.5.0,>=0.4.6 in /usr/local/lib/python3.7/dist-packages (from pyasn1-modules>=0.2.1->google-auth<3,>=1.6.3->tensorboard~=2.5->tensorflow==2.5.2->-r /content/time-series-forecasting-with-python/requirements.txt (line 16)) (0.4.8)\n",
            "Requirement already satisfied: oauthlib>=3.0.0 in /usr/local/lib/python3.7/dist-packages (from requests-oauthlib>=0.7.0->google-auth-oauthlib<0.5,>=0.4.1->tensorboard~=2.5->tensorflow==2.5.2->-r /content/time-series-forecasting-with-python/requirements.txt (line 16)) (3.2.0)\n",
            "Requirement already satisfied: llvmlite<0.35,>=0.34.0.dev0 in /usr/local/lib/python3.7/dist-packages (from numba->shap==0.39->-r /content/time-series-forecasting-with-python/requirements.txt (line 23)) (0.34.0)\n",
            "Installing collected packages: matplotlib\n",
            "  Attempting uninstall: matplotlib\n",
            "    Found existing installation: matplotlib 3.1.3\n",
            "    Uninstalling matplotlib-3.1.3:\n",
            "      Successfully uninstalled matplotlib-3.1.3\n",
            "\u001b[31mERROR: pip's dependency resolver does not currently take into account all the packages that are installed. This behaviour is the source of the following dependency conflicts.\n",
            "yellowbrick 1.4 requires scikit-learn>=1.0.0, but you have scikit-learn 0.24.0 which is incompatible.\n",
            "albumentations 0.1.12 requires imgaug<0.2.7,>=0.2.5, but you have imgaug 0.2.9 which is incompatible.\u001b[0m\n",
            "Successfully installed matplotlib-3.4.0\n"
          ]
        },
        {
          "output_type": "display_data",
          "data": {
            "application/vnd.colab-display-data+json": {
              "pip_warning": {
                "packages": [
                  "matplotlib",
                  "mpl_toolkits"
                ]
              }
            }
          },
          "metadata": {}
        }
      ]
    },
    {
      "cell_type": "code",
      "source": [
        "import os\n",
        "os.chdir('/content/time-series-forecasting-with-python/')"
      ],
      "metadata": {
        "id": "q5YW98VFM_-j"
      },
      "execution_count": 3,
      "outputs": []
    },
    {
      "cell_type": "code",
      "source": [
        "import pickle\n",
        "import warnings\n",
        "from math import sqrt\n",
        "\n",
        "import lightgbm as lgb\n",
        "import matplotlib as mpl\n",
        "import numpy as np\n",
        "import pandas as pd  # Basic library for all of our dataset operations\n",
        "import pmdarima as pm\n",
        "import tensorflow as tf\n",
        "import xgboost as xgb\n",
        "from bayes_opt import BayesianOptimization\n",
        "from fbprophet import Prophet\n",
        "from gluonts.dataset.common import ListDataset\n",
        "from gluonts.evaluation.backtest import make_evaluation_predictions\n",
        "from gluonts.model.deepar import DeepAREstimator\n",
        "from gluonts.mx.trainer import Trainer\n",
        "from matplotlib import pyplot as plt\n",
        "from sklearn import linear_model, svm\n",
        "from sklearn.ensemble import RandomForestRegressor\n",
        "from sklearn.metrics import make_scorer, mean_squared_error\n",
        "from sklearn.model_selection import GridSearchCV, cross_val_score\n",
        "from sklearn.neighbors import KNeighborsRegressor\n",
        "from sklearn.preprocessing import StandardScaler\n",
        "from statsmodels.tsa.ar_model import AR\n",
        "from statsmodels.tsa.arima_model import ARIMA, ARMA\n",
        "from statsmodels.tsa.holtwinters import ExponentialSmoothing, SimpleExpSmoothing\n",
        "from statsmodels.tsa.statespace.sarimax import SARIMAX\n",
        "from tqdm import tqdm\n",
        "\n",
        "from utils.metrics import evaluate\n",
        "\n",
        "\n",
        "# We will use deprecated models of statmodels which throw a lot of warnings to use more modern ones\n",
        "warnings.filterwarnings(\"ignore\")\n",
        "\n",
        "\n",
        "# Extra settings\n",
        "seed = 42\n",
        "tf.random.set_seed(seed)\n",
        "np.random.seed(seed)\n",
        "plt.style.use('bmh')\n",
        "mpl.rcParams['axes.labelsize'] = 14\n",
        "mpl.rcParams['xtick.labelsize'] = 12\n",
        "mpl.rcParams['ytick.labelsize'] = 12\n",
        "mpl.rcParams['text.color'] = 'k'\n",
        "mpl.rcParams['figure.figsize'] = 18, 8\n",
        "\n",
        "print(tf.__version__)\n",
        "\n",
        "air_pollution = pd.read_csv('/content/time-series-forecasting-with-python/datasets/air_pollution.csv', parse_dates=['date'])\n",
        "air_pollution.set_index('date', inplace=True)"
      ],
      "metadata": {
        "colab": {
          "base_uri": "https://localhost:8080/"
        },
        "id": "Cdfoq1x7K1sN",
        "outputId": "4b579d74-2245-42c6-962a-1b1175854db2"
      },
      "execution_count": 4,
      "outputs": [
        {
          "output_type": "stream",
          "name": "stdout",
          "text": [
            "2.5.2\n"
          ]
        }
      ]
    },
    {
      "cell_type": "markdown",
      "source": [
        "<h1>Methods for time series forecasting\n",
        "<br>\n",
        "\n"
      ],
      "metadata": {
        "id": "RLnKbVjPO09f"
      }
    },
    {
      "cell_type": "code",
      "source": [
        "!pip install pandas==0.20.3"
      ],
      "metadata": {
        "colab": {
          "base_uri": "https://localhost:8080/"
        },
        "id": "jxhEogjgP60d",
        "outputId": "341d75e2-68f4-473a-fd6c-1da3bd9723bb"
      },
      "execution_count": null,
      "outputs": [
        {
          "output_type": "stream",
          "name": "stdout",
          "text": [
            "Collecting pandas==0.20.3\n",
            "  Downloading pandas-0.20.3.tar.gz (10.4 MB)\n",
            "\u001b[K     |████████████████████████████████| 10.4 MB 31.8 MB/s \n",
            "\u001b[?25hRequirement already satisfied: python-dateutil>=2 in /usr/local/lib/python3.7/dist-packages (from pandas==0.20.3) (2.8.0)\n",
            "Requirement already satisfied: pytz>=2011k in /usr/local/lib/python3.7/dist-packages (from pandas==0.20.3) (2022.1)\n",
            "Requirement already satisfied: numpy>=1.7.0 in /usr/local/lib/python3.7/dist-packages (from pandas==0.20.3) (1.19.5)\n",
            "Requirement already satisfied: six>=1.5 in /usr/local/lib/python3.7/dist-packages (from python-dateutil>=2->pandas==0.20.3) (1.15.0)\n",
            "Building wheels for collected packages: pandas\n",
            "y\n",
            "  Building wheel for pandas (setup.py) ... \u001b[?25lerror\n",
            "\u001b[31m  ERROR: Failed building wheel for pandas\u001b[0m\n",
            "\u001b[?25h  Running setup.py clean for pandas\n",
            "Failed to build pandas\n",
            "Installing collected packages: pandas\n",
            "  Attempting uninstall: pandas\n",
            "    Found existing installation: pandas 1.2.0\n",
            "    Uninstalling pandas-1.2.0:\n",
            "      Successfully uninstalled pandas-1.2.0\n",
            "    Running setup.py install for pandas ... \u001b[?25l\u001b[?25herror\n",
            "  Rolling back uninstall of pandas\n",
            "  Moving to /usr/local/lib/python3.7/dist-packages/pandas-1.2.0.dist-info/\n",
            "   from /usr/local/lib/python3.7/dist-packages/~andas-1.2.0.dist-info\n",
            "  Moving to /usr/local/lib/python3.7/dist-packages/pandas/\n",
            "   from /usr/local/lib/python3.7/dist-packages/~andas\n",
            "\u001b[31mERROR: Command errored out with exit status 1: /usr/bin/python3 -u -c 'import io, os, sys, setuptools, tokenize; sys.argv[0] = '\"'\"'/tmp/pip-install-6b3kto8g/pandas_7f7ef61ab6dd47059a9dacf719a6c353/setup.py'\"'\"'; __file__='\"'\"'/tmp/pip-install-6b3kto8g/pandas_7f7ef61ab6dd47059a9dacf719a6c353/setup.py'\"'\"';f = getattr(tokenize, '\"'\"'open'\"'\"', open)(__file__) if os.path.exists(__file__) else io.StringIO('\"'\"'from setuptools import setup; setup()'\"'\"');code = f.read().replace('\"'\"'\\r\\n'\"'\"', '\"'\"'\\n'\"'\"');f.close();exec(compile(code, __file__, '\"'\"'exec'\"'\"'))' install --record /tmp/pip-record-f4tm2l0y/install-record.txt --single-version-externally-managed --compile --install-headers /usr/local/include/python3.7/pandas Check the logs for full command output.\u001b[0m\n"
          ]
        }
      ]
    },
    {
      "cell_type": "code",
      "source": [
        "!pip install pandas\n"
      ],
      "metadata": {
        "id": "E1mFfoh1RwgD"
      },
      "execution_count": null,
      "outputs": []
    },
    {
      "cell_type": "code",
      "source": [
        "resultsDict = {}\n",
        "predictionsDict = {}\n",
        "\n",
        "air_pollution = pd.read_csv('/content/time-series-forecasting-with-python/datasets/air_pollution.csv', parse_dates=['date'])\n",
        "air_pollution.set_index('date', inplace=True)\n",
        "\n",
        "split_date = '2014-01-01'\n",
        "df_training = air_pollution.loc[air_pollution.index <= split_date]\n",
        "df_test = air_pollution.loc[air_pollution.index > split_date]\n",
        "print(f\"{len(df_training)} days of training data \\n {len(df_test)} days of testing data \")\n",
        "\n",
        "df_training.to_csv('/content/time-series-forecasting-with-python/datasets/training.csv')\n",
        "df_test.to_csv('/content/time-series-forecasting-with-python/datasets/test.csv')"
      ],
      "metadata": {
        "colab": {
          "base_uri": "https://localhost:8080/"
        },
        "id": "d0he3z1QOyTj",
        "outputId": "4c678de7-cd37-487b-a63e-6b6536937696"
      },
      "execution_count": 5,
      "outputs": [
        {
          "output_type": "stream",
          "name": "stdout",
          "text": [
            "1461 days of training data \n",
            " 364 days of testing data \n"
          ]
        }
      ]
    },
    {
      "cell_type": "code",
      "source": [
        "# Also add the naive mean average value\n",
        "mean = df_training.pollution_today.mean()\n",
        "mean = np.array([mean for u in range(len(df_test))])\n",
        "resultsDict['Naive mean'] = evaluate(df_test.pollution_today, mean)\n",
        "predictionsDict['Naive mean'] = mean\n",
        "resultsDict['Yesterdays value'] = evaluate(\n",
        "    df_test.pollution_today, df_test.pollution_yesterday)\n",
        "predictionsDict['Yesterdays value'] = df_test.pollution_yesterday.values"
      ],
      "metadata": {
        "id": "IfHv28sxPpPw"
      },
      "execution_count": 6,
      "outputs": []
    },
    {
      "cell_type": "markdown",
      "source": [
        "<h1>Simple Exponential Smoothing (SES)\n"
      ],
      "metadata": {
        "id": "UKk8vDP7UlZl"
      }
    },
    {
      "cell_type": "code",
      "source": [
        "# Walk throught the test data, training and predicting 1 day ahead for all the test data\n",
        "index = len(df_training)\n",
        "yhat = list()\n",
        "for t in tqdm(range(len(df_test.pollution_today))):\n",
        "    temp_train = air_pollution[:len(df_training)+t]\n",
        "    model = SimpleExpSmoothing(temp_train.pollution_today)\n",
        "    model_fit = model.fit()\n",
        "    predictions = model_fit.predict(start=len(temp_train), end=len(temp_train))\n",
        "    yhat = yhat + [predictions]\n",
        "\n",
        "yhat = pd.concat(yhat)\n",
        "resultsDict['SES'] = evaluate(df_test.pollution_today, yhat.values)\n",
        "predictionsDict['SES'] = yhat.values"
      ],
      "metadata": {
        "colab": {
          "base_uri": "https://localhost:8080/"
        },
        "id": "pqRKdAxWUiL3",
        "outputId": "ac3c9a86-b97b-44b7-d9c9-4463b5935faf"
      },
      "execution_count": 7,
      "outputs": [
        {
          "output_type": "stream",
          "name": "stderr",
          "text": [
            "100%|██████████| 364/364 [00:03<00:00, 93.75it/s]\n"
          ]
        }
      ]
    },
    {
      "cell_type": "markdown",
      "source": [
        "<h1>Holt Winter’s Exponential Smoothing (HWES)\n"
      ],
      "metadata": {
        "id": "OETAiHamUsam"
      }
    },
    {
      "cell_type": "code",
      "source": [
        "index = len(df_training)\n",
        "yhat = list()\n",
        "for t in tqdm(range(len(df_test.pollution_today))):\n",
        "    temp_train = air_pollution[:len(df_training)+t]\n",
        "    model = ExponentialSmoothing(temp_train.pollution_today)\n",
        "    model_fit = model.fit()\n",
        "    predictions = model_fit.predict(start=len(temp_train), end=len(temp_train))\n",
        "    yhat = yhat + [predictions]\n",
        "\n",
        "yhat = pd.concat(yhat)\n",
        "resultsDict['HWES'] = evaluate(df_test.pollution_today, yhat.values)\n",
        "predictionsDict['HWES'] = yhat.values"
      ],
      "metadata": {
        "colab": {
          "base_uri": "https://localhost:8080/"
        },
        "id": "jTBi4FckUqyN",
        "outputId": "f2c97c57-3ea5-4452-b442-2efbd1ffdcd9"
      },
      "execution_count": 8,
      "outputs": [
        {
          "output_type": "stream",
          "name": "stderr",
          "text": [
            "100%|██████████| 364/364 [00:03<00:00, 95.61it/s]\n"
          ]
        }
      ]
    },
    {
      "cell_type": "markdown",
      "source": [
        "<h1>Multivariate time series forecasting\n"
      ],
      "metadata": {
        "id": "7EBANgMAU8J0"
      }
    },
    {
      "cell_type": "code",
      "source": [
        "# ADD time features to our model\n",
        "def create_time_features(df, target=None):\n",
        "    \"\"\"\n",
        "    Creates time series features from datetime index\n",
        "    \"\"\"\n",
        "    df['date'] = df.index\n",
        "    df['hour'] = df['date'].dt.hour\n",
        "    df['dayofweek'] = df['date'].dt.dayofweek\n",
        "    df['quarter'] = df['date'].dt.quarter\n",
        "    df['month'] = df['date'].dt.month\n",
        "    df['year'] = df['date'].dt.year\n",
        "    df['dayofyear'] = df['date'].dt.dayofyear\n",
        "    df['sin_day'] = np.sin(df['dayofyear'])\n",
        "    df['cos_day'] = np.cos(df['dayofyear'])\n",
        "    df['dayofmonth'] = df['date'].dt.day\n",
        "    df['weekofyear'] = df['date'].dt.weekofyear\n",
        "    X = df.drop(['date'], axis=1)\n",
        "    if target:\n",
        "        y = df[target]\n",
        "        X = X.drop([target], axis=1)\n",
        "        return X, y\n",
        "\n",
        "    return X"
      ],
      "metadata": {
        "id": "hZENCvRXUwHc"
      },
      "execution_count": 9,
      "outputs": []
    },
    {
      "cell_type": "code",
      "source": [
        "df_training"
      ],
      "metadata": {
        "id": "gT2mPPm5WMa7",
        "colab": {
          "base_uri": "https://localhost:8080/",
          "height": 455
        },
        "outputId": "67f105d2-fdd0-49a3-cd35-1c8ef682b65d"
      },
      "execution_count": 10,
      "outputs": [
        {
          "output_type": "execute_result",
          "data": {
            "text/plain": [
              "            pollution_today        dew       temp        press     wnd_spd  \\\n",
              "date                                                                         \n",
              "2010-01-02       145.958333  -8.500000  -5.125000  1024.750000   24.860000   \n",
              "2010-01-03        78.833333 -10.125000  -8.541667  1022.791667   70.937917   \n",
              "2010-01-04        31.333333 -20.875000 -11.500000  1029.291667  111.160833   \n",
              "2010-01-05        42.458333 -24.583333 -14.458333  1033.625000   56.920000   \n",
              "2010-01-06        56.416667 -23.708333 -12.541667  1033.750000   18.511667   \n",
              "...                     ...        ...        ...          ...         ...   \n",
              "2013-12-28        21.125000 -22.958333  -1.250000  1026.208333   78.201667   \n",
              "2013-12-29        50.520833 -22.875000   1.041667  1019.208333   12.253750   \n",
              "2013-12-30        39.833333 -22.458333   4.166667  1015.708333   57.210833   \n",
              "2013-12-31        51.833333 -18.666667   4.666667  1012.333333   56.876667   \n",
              "2014-01-01        53.416667 -17.166667   6.625000  1014.458333   51.591667   \n",
              "\n",
              "                 snow  rain  pollution_yesterday  \n",
              "date                                              \n",
              "2010-01-02   0.708333   0.0            10.041667  \n",
              "2010-01-03  14.166667   0.0           145.958333  \n",
              "2010-01-04   0.000000   0.0            78.833333  \n",
              "2010-01-05   0.000000   0.0            31.333333  \n",
              "2010-01-06   0.000000   0.0            42.458333  \n",
              "...               ...   ...                  ...  \n",
              "2013-12-28   0.000000   0.0            31.916667  \n",
              "2013-12-29   0.000000   0.0            21.125000  \n",
              "2013-12-30   0.000000   0.0            50.520833  \n",
              "2013-12-31   0.000000   0.0            39.833333  \n",
              "2014-01-01   0.000000   0.0            51.833333  \n",
              "\n",
              "[1461 rows x 8 columns]"
            ],
            "text/html": [
              "\n",
              "  <div id=\"df-d7c32539-8b86-4ea4-9143-050c14b615b3\">\n",
              "    <div class=\"colab-df-container\">\n",
              "      <div>\n",
              "<style scoped>\n",
              "    .dataframe tbody tr th:only-of-type {\n",
              "        vertical-align: middle;\n",
              "    }\n",
              "\n",
              "    .dataframe tbody tr th {\n",
              "        vertical-align: top;\n",
              "    }\n",
              "\n",
              "    .dataframe thead th {\n",
              "        text-align: right;\n",
              "    }\n",
              "</style>\n",
              "<table border=\"1\" class=\"dataframe\">\n",
              "  <thead>\n",
              "    <tr style=\"text-align: right;\">\n",
              "      <th></th>\n",
              "      <th>pollution_today</th>\n",
              "      <th>dew</th>\n",
              "      <th>temp</th>\n",
              "      <th>press</th>\n",
              "      <th>wnd_spd</th>\n",
              "      <th>snow</th>\n",
              "      <th>rain</th>\n",
              "      <th>pollution_yesterday</th>\n",
              "    </tr>\n",
              "    <tr>\n",
              "      <th>date</th>\n",
              "      <th></th>\n",
              "      <th></th>\n",
              "      <th></th>\n",
              "      <th></th>\n",
              "      <th></th>\n",
              "      <th></th>\n",
              "      <th></th>\n",
              "      <th></th>\n",
              "    </tr>\n",
              "  </thead>\n",
              "  <tbody>\n",
              "    <tr>\n",
              "      <th>2010-01-02</th>\n",
              "      <td>145.958333</td>\n",
              "      <td>-8.500000</td>\n",
              "      <td>-5.125000</td>\n",
              "      <td>1024.750000</td>\n",
              "      <td>24.860000</td>\n",
              "      <td>0.708333</td>\n",
              "      <td>0.0</td>\n",
              "      <td>10.041667</td>\n",
              "    </tr>\n",
              "    <tr>\n",
              "      <th>2010-01-03</th>\n",
              "      <td>78.833333</td>\n",
              "      <td>-10.125000</td>\n",
              "      <td>-8.541667</td>\n",
              "      <td>1022.791667</td>\n",
              "      <td>70.937917</td>\n",
              "      <td>14.166667</td>\n",
              "      <td>0.0</td>\n",
              "      <td>145.958333</td>\n",
              "    </tr>\n",
              "    <tr>\n",
              "      <th>2010-01-04</th>\n",
              "      <td>31.333333</td>\n",
              "      <td>-20.875000</td>\n",
              "      <td>-11.500000</td>\n",
              "      <td>1029.291667</td>\n",
              "      <td>111.160833</td>\n",
              "      <td>0.000000</td>\n",
              "      <td>0.0</td>\n",
              "      <td>78.833333</td>\n",
              "    </tr>\n",
              "    <tr>\n",
              "      <th>2010-01-05</th>\n",
              "      <td>42.458333</td>\n",
              "      <td>-24.583333</td>\n",
              "      <td>-14.458333</td>\n",
              "      <td>1033.625000</td>\n",
              "      <td>56.920000</td>\n",
              "      <td>0.000000</td>\n",
              "      <td>0.0</td>\n",
              "      <td>31.333333</td>\n",
              "    </tr>\n",
              "    <tr>\n",
              "      <th>2010-01-06</th>\n",
              "      <td>56.416667</td>\n",
              "      <td>-23.708333</td>\n",
              "      <td>-12.541667</td>\n",
              "      <td>1033.750000</td>\n",
              "      <td>18.511667</td>\n",
              "      <td>0.000000</td>\n",
              "      <td>0.0</td>\n",
              "      <td>42.458333</td>\n",
              "    </tr>\n",
              "    <tr>\n",
              "      <th>...</th>\n",
              "      <td>...</td>\n",
              "      <td>...</td>\n",
              "      <td>...</td>\n",
              "      <td>...</td>\n",
              "      <td>...</td>\n",
              "      <td>...</td>\n",
              "      <td>...</td>\n",
              "      <td>...</td>\n",
              "    </tr>\n",
              "    <tr>\n",
              "      <th>2013-12-28</th>\n",
              "      <td>21.125000</td>\n",
              "      <td>-22.958333</td>\n",
              "      <td>-1.250000</td>\n",
              "      <td>1026.208333</td>\n",
              "      <td>78.201667</td>\n",
              "      <td>0.000000</td>\n",
              "      <td>0.0</td>\n",
              "      <td>31.916667</td>\n",
              "    </tr>\n",
              "    <tr>\n",
              "      <th>2013-12-29</th>\n",
              "      <td>50.520833</td>\n",
              "      <td>-22.875000</td>\n",
              "      <td>1.041667</td>\n",
              "      <td>1019.208333</td>\n",
              "      <td>12.253750</td>\n",
              "      <td>0.000000</td>\n",
              "      <td>0.0</td>\n",
              "      <td>21.125000</td>\n",
              "    </tr>\n",
              "    <tr>\n",
              "      <th>2013-12-30</th>\n",
              "      <td>39.833333</td>\n",
              "      <td>-22.458333</td>\n",
              "      <td>4.166667</td>\n",
              "      <td>1015.708333</td>\n",
              "      <td>57.210833</td>\n",
              "      <td>0.000000</td>\n",
              "      <td>0.0</td>\n",
              "      <td>50.520833</td>\n",
              "    </tr>\n",
              "    <tr>\n",
              "      <th>2013-12-31</th>\n",
              "      <td>51.833333</td>\n",
              "      <td>-18.666667</td>\n",
              "      <td>4.666667</td>\n",
              "      <td>1012.333333</td>\n",
              "      <td>56.876667</td>\n",
              "      <td>0.000000</td>\n",
              "      <td>0.0</td>\n",
              "      <td>39.833333</td>\n",
              "    </tr>\n",
              "    <tr>\n",
              "      <th>2014-01-01</th>\n",
              "      <td>53.416667</td>\n",
              "      <td>-17.166667</td>\n",
              "      <td>6.625000</td>\n",
              "      <td>1014.458333</td>\n",
              "      <td>51.591667</td>\n",
              "      <td>0.000000</td>\n",
              "      <td>0.0</td>\n",
              "      <td>51.833333</td>\n",
              "    </tr>\n",
              "  </tbody>\n",
              "</table>\n",
              "<p>1461 rows × 8 columns</p>\n",
              "</div>\n",
              "      <button class=\"colab-df-convert\" onclick=\"convertToInteractive('df-d7c32539-8b86-4ea4-9143-050c14b615b3')\"\n",
              "              title=\"Convert this dataframe to an interactive table.\"\n",
              "              style=\"display:none;\">\n",
              "        \n",
              "  <svg xmlns=\"http://www.w3.org/2000/svg\" height=\"24px\"viewBox=\"0 0 24 24\"\n",
              "       width=\"24px\">\n",
              "    <path d=\"M0 0h24v24H0V0z\" fill=\"none\"/>\n",
              "    <path d=\"M18.56 5.44l.94 2.06.94-2.06 2.06-.94-2.06-.94-.94-2.06-.94 2.06-2.06.94zm-11 1L8.5 8.5l.94-2.06 2.06-.94-2.06-.94L8.5 2.5l-.94 2.06-2.06.94zm10 10l.94 2.06.94-2.06 2.06-.94-2.06-.94-.94-2.06-.94 2.06-2.06.94z\"/><path d=\"M17.41 7.96l-1.37-1.37c-.4-.4-.92-.59-1.43-.59-.52 0-1.04.2-1.43.59L10.3 9.45l-7.72 7.72c-.78.78-.78 2.05 0 2.83L4 21.41c.39.39.9.59 1.41.59.51 0 1.02-.2 1.41-.59l7.78-7.78 2.81-2.81c.8-.78.8-2.07 0-2.86zM5.41 20L4 18.59l7.72-7.72 1.47 1.35L5.41 20z\"/>\n",
              "  </svg>\n",
              "      </button>\n",
              "      \n",
              "  <style>\n",
              "    .colab-df-container {\n",
              "      display:flex;\n",
              "      flex-wrap:wrap;\n",
              "      gap: 12px;\n",
              "    }\n",
              "\n",
              "    .colab-df-convert {\n",
              "      background-color: #E8F0FE;\n",
              "      border: none;\n",
              "      border-radius: 50%;\n",
              "      cursor: pointer;\n",
              "      display: none;\n",
              "      fill: #1967D2;\n",
              "      height: 32px;\n",
              "      padding: 0 0 0 0;\n",
              "      width: 32px;\n",
              "    }\n",
              "\n",
              "    .colab-df-convert:hover {\n",
              "      background-color: #E2EBFA;\n",
              "      box-shadow: 0px 1px 2px rgba(60, 64, 67, 0.3), 0px 1px 3px 1px rgba(60, 64, 67, 0.15);\n",
              "      fill: #174EA6;\n",
              "    }\n",
              "\n",
              "    [theme=dark] .colab-df-convert {\n",
              "      background-color: #3B4455;\n",
              "      fill: #D2E3FC;\n",
              "    }\n",
              "\n",
              "    [theme=dark] .colab-df-convert:hover {\n",
              "      background-color: #434B5C;\n",
              "      box-shadow: 0px 1px 3px 1px rgba(0, 0, 0, 0.15);\n",
              "      filter: drop-shadow(0px 1px 2px rgba(0, 0, 0, 0.3));\n",
              "      fill: #FFFFFF;\n",
              "    }\n",
              "  </style>\n",
              "\n",
              "      <script>\n",
              "        const buttonEl =\n",
              "          document.querySelector('#df-d7c32539-8b86-4ea4-9143-050c14b615b3 button.colab-df-convert');\n",
              "        buttonEl.style.display =\n",
              "          google.colab.kernel.accessAllowed ? 'block' : 'none';\n",
              "\n",
              "        async function convertToInteractive(key) {\n",
              "          const element = document.querySelector('#df-d7c32539-8b86-4ea4-9143-050c14b615b3');\n",
              "          const dataTable =\n",
              "            await google.colab.kernel.invokeFunction('convertToInteractive',\n",
              "                                                     [key], {});\n",
              "          if (!dataTable) return;\n",
              "\n",
              "          const docLinkHtml = 'Like what you see? Visit the ' +\n",
              "            '<a target=\"_blank\" href=https://colab.research.google.com/notebooks/data_table.ipynb>data table notebook</a>'\n",
              "            + ' to learn more about interactive tables.';\n",
              "          element.innerHTML = '';\n",
              "          dataTable['output_type'] = 'display_data';\n",
              "          await google.colab.output.renderOutput(dataTable, element);\n",
              "          const docLink = document.createElement('div');\n",
              "          docLink.innerHTML = docLinkHtml;\n",
              "          element.appendChild(docLink);\n",
              "        }\n",
              "      </script>\n",
              "    </div>\n",
              "  </div>\n",
              "  "
            ]
          },
          "metadata": {},
          "execution_count": 10
        }
      ]
    },
    {
      "cell_type": "code",
      "source": [
        "X_train_df, y_train = create_time_features(\n",
        "    df_training, target='pollution_today')\n",
        "X_test_df, y_test = create_time_features(df_test, target='pollution_today')\n",
        "scaler = StandardScaler()\n",
        "scaler.fit(X_train_df)  # No cheating, never scale on the training+test!\n",
        "X_train = scaler.transform(X_train_df)\n",
        "X_test = scaler.transform(X_test_df)\n",
        "\n",
        "X_train_df = pd.DataFrame(X_train, columns=X_train_df.columns)\n",
        "X_test_df = pd.DataFrame(X_test, columns=X_test_df.columns)"
      ],
      "metadata": {
        "id": "vMnEzRnBVAKx"
      },
      "execution_count": 11,
      "outputs": []
    },
    {
      "cell_type": "markdown",
      "source": [
        "<h1>Linear models\n"
      ],
      "metadata": {
        "id": "v1z8feLFVDnq"
      }
    },
    {
      "cell_type": "markdown",
      "source": [
        "<h2>Bayesian regression"
      ],
      "metadata": {
        "id": "PuyNw46jVHB6"
      }
    },
    {
      "cell_type": "code",
      "source": [
        "reg = linear_model.BayesianRidge()\n",
        "reg.fit(X_train, y_train)\n",
        "yhat = reg.predict(X_test)\n",
        "resultsDict['BayesianRidge'] = evaluate(df_test.pollution_today, yhat)\n",
        "predictionsDict['BayesianRidge'] = yhat"
      ],
      "metadata": {
        "id": "lCyDYR5uVBn8"
      },
      "execution_count": 12,
      "outputs": []
    },
    {
      "cell_type": "markdown",
      "source": [
        "<h2>Lasso"
      ],
      "metadata": {
        "id": "EGWXe5sMVMc8"
      }
    },
    {
      "cell_type": "code",
      "source": [
        "reg = linear_model.Lasso(alpha=0.1)\n",
        "reg.fit(X_train, y_train)\n",
        "yhat = reg.predict(X_test)\n",
        "resultsDict['Lasso'] = evaluate(df_test.pollution_today, yhat)\n",
        "predictionsDict['Lasso'] = yhat"
      ],
      "metadata": {
        "id": "miIYuBwBVL4A"
      },
      "execution_count": 13,
      "outputs": []
    },
    {
      "cell_type": "markdown",
      "source": [
        "<h1> Tree Model"
      ],
      "metadata": {
        "id": "3bH72NJHVQ4k"
      }
    },
    {
      "cell_type": "markdown",
      "source": [
        "<h2>Randomforest\n"
      ],
      "metadata": {
        "id": "6he9HPmbVUQu"
      }
    },
    {
      "cell_type": "code",
      "source": [
        "reg = RandomForestRegressor(max_depth=2, random_state=0)\n",
        "reg.fit(X_train, y_train)\n",
        "yhat = reg.predict(X_test)\n",
        "resultsDict['Randomforest'] = evaluate(df_test.pollution_today, yhat)\n",
        "predictionsDict['Randomforest'] = yhat"
      ],
      "metadata": {
        "id": "Z_dzXapwVQYs"
      },
      "execution_count": 14,
      "outputs": []
    },
    {
      "cell_type": "markdown",
      "source": [
        "<h2>XGBoost"
      ],
      "metadata": {
        "id": "HJvin6xTVbPD"
      }
    },
    {
      "cell_type": "code",
      "source": [
        "reg = xgb.XGBRegressor(objective='reg:squarederror', n_estimators=1000)\n",
        "reg.fit(X_train, y_train,\n",
        "        verbose=False)  # Change verbose to True if you want to see it train\n",
        "yhat = reg.predict(X_test)\n",
        "resultsDict['XGBoost'] = evaluate(df_test.pollution_today, yhat)\n",
        "predictionsDict['XGBoost'] = yhat"
      ],
      "metadata": {
        "id": "qYaSggTeVYzj"
      },
      "execution_count": 15,
      "outputs": []
    },
    {
      "cell_type": "code",
      "source": [
        "!pip uninstall matplotlib\n",
        "!pip install matplotlib==3.1.3"
      ],
      "metadata": {
        "id": "csBAEfPMVofk"
      },
      "execution_count": null,
      "outputs": []
    },
    {
      "cell_type": "code",
      "source": [
        "plt.plot(df_test.pollution_today.values, label='Original')\n",
        "plt.plot(yhat, color='red', label='XGboost')\n",
        "plt.legend()"
      ],
      "metadata": {
        "colab": {
          "base_uri": "https://localhost:8080/",
          "height": 500
        },
        "id": "P6pvlPlkVeiW",
        "outputId": "cdd056aa-84e9-41d5-c7e6-ec07728749f7"
      },
      "execution_count": 17,
      "outputs": [
        {
          "output_type": "execute_result",
          "data": {
            "text/plain": [
              "<matplotlib.legend.Legend at 0x7f58d927fa10>"
            ]
          },
          "metadata": {},
          "execution_count": 17
        },
        {
          "output_type": "display_data",
          "data": {
            "text/plain": [
              "<Figure size 1296x576 with 1 Axes>"
            ],
            "image/png": "[encoded data removed]"
          },
          "metadata": {
            "needs_background": "light"
          }
        }
      ]
    },
    {
      "cell_type": "markdown",
      "source": [
        "<h2>Lightgbm"
      ],
      "metadata": {
        "id": "iJN-iiOtekBH"
      }
    },
    {
      "cell_type": "code",
      "source": [
        "lightGBM = lgb.LGBMRegressor()\n",
        "lightGBM.fit(X_train, y_train)\n",
        "yhat = lightGBM.predict(X_test)\n",
        "resultsDict['Lightgbm'] = evaluate(df_test.pollution_today, yhat)\n",
        "predictionsDict['Lightgbm'] = yhat"
      ],
      "metadata": {
        "id": "YovTQHIpVf8l"
      },
      "execution_count": 18,
      "outputs": []
    },
    {
      "cell_type": "markdown",
      "source": [
        "<h2>Support vector machines\n"
      ],
      "metadata": {
        "id": "YHO-AEe3en3Z"
      }
    },
    {
      "cell_type": "code",
      "source": [
        "reg = svm.SVR(kernel='rbf', C=100, gamma=0.1, epsilon=.1)\n",
        "reg.fit(X_train, y_train)\n",
        "yhat = reg.predict(X_test)\n",
        "resultsDict['SVM RBF'] = evaluate(df_test.pollution_today, yhat)\n",
        "predictionsDict['SVM RBF'] = yhat"
      ],
      "metadata": {
        "id": "5HrJLqktenYv"
      },
      "execution_count": 19,
      "outputs": []
    },
    {
      "cell_type": "markdown",
      "source": [
        "<h2>Nearest neighbors\n"
      ],
      "metadata": {
        "id": "0ygH-B-SeuQh"
      }
    },
    {
      "cell_type": "code",
      "source": [
        "reg = KNeighborsRegressor(n_neighbors=2)\n",
        "reg.fit(X_train, y_train)\n",
        "yhat = reg.predict(X_test)\n",
        "resultsDict['Kneighbors'] = evaluate(df_test.pollution_today, yhat)\n",
        "predictionsDict['Kneighbors'] = yhat"
      ],
      "metadata": {
        "id": "mOMlzhU2es1Z"
      },
      "execution_count": 20,
      "outputs": []
    },
    {
      "cell_type": "markdown",
      "source": [
        "<h1>Deep learning\n"
      ],
      "metadata": {
        "id": "PQqJ6Teqfciq"
      }
    },
    {
      "cell_type": "markdown",
      "source": [
        "<h2>Tensorlfow LSTM\n"
      ],
      "metadata": {
        "id": "hl6P2N72ffjw"
      }
    },
    {
      "cell_type": "code",
      "source": [
        "BATCH_SIZE = 64\n",
        "BUFFER_SIZE = 100\n",
        "WINDOW_LENGTH = 24\n",
        "\n",
        "\n",
        "def window_data(X, Y, window=7):\n",
        "    '''\n",
        "    The dataset length will be reduced to guarante all samples have the window, so new length will be len(dataset)-window\n",
        "    '''\n",
        "    x = []\n",
        "    y = []\n",
        "    for i in range(window-1, len(X)):\n",
        "        x.append(X[i-window+1:i+1])\n",
        "        y.append(Y[i])\n",
        "    return np.array(x), np.array(y)\n",
        "\n",
        "\n",
        "# Since we are doing sliding, we need to join the datasets again of train and test\n",
        "X_w = np.concatenate((X_train, X_test))\n",
        "y_w = np.concatenate((y_train, y_test))\n",
        "\n",
        "X_w, y_w = window_data(X_w, y_w, window=WINDOW_LENGTH)\n",
        "X_train_w = X_w[:-len(X_test)]\n",
        "y_train_w = y_w[:-len(X_test)]\n",
        "X_test_w = X_w[-len(X_test):]\n",
        "y_test_w = y_w[-len(X_test):]\n",
        "\n",
        "# Check we will have same test set as in the previous models, make sure we didnt screw up on the windowing\n",
        "print(f\"Test set equal: {np.array_equal(y_test_w,y_test)}\")\n",
        "print(X_train_w)\n",
        "print(y_train_w)\n",
        "train_data = tf.data.Dataset.from_tensor_slices((X_train_w, y_train_w))\n",
        "train_data = train_data.cache().shuffle(BUFFER_SIZE).batch(BATCH_SIZE).repeat()\n",
        "\n",
        "val_data = tf.data.Dataset.from_tensor_slices((X_test_w, y_test_w))\n",
        "val_data = val_data.batch(BATCH_SIZE).repeat()"
      ],
      "metadata": {
        "id": "_cuU6pe3e6St"
      },
      "execution_count": null,
      "outputs": []
    },
    {
      "cell_type": "code",
      "source": [
        "dropout = 0.0\n",
        "simple_lstm_model = tf.keras.models.Sequential([\n",
        "    tf.keras.layers.LSTM(\n",
        "    128, input_shape=X_train_w.shape[-2:], dropout=dropout),\n",
        "    tf.keras.layers.Dense(128),\n",
        "    tf.keras.layers.Dense(128),\n",
        "    tf.keras.layers.Dense(1)\n",
        "])\n",
        "\n",
        "simple_lstm_model.compile(optimizer='rmsprop', loss='mae')\n",
        "\n",
        "# logdir = \"logs/scalars/\" + datetime.now().strftime(\"%Y%m%d-%H%M%S\") #Support for tensorboard tracking!\n",
        "# tensorboard_callback = tf.keras.callbacks.TensorBoard(log_dir=logdir)"
      ],
      "metadata": {
        "id": "HsfL2h4ffm97"
      },
      "execution_count": 38,
      "outputs": []
    },
    {
      "cell_type": "code",
      "source": [
        "EVALUATION_INTERVAL = 200\n",
        "EPOCHS = 5\n",
        "\n",
        "model_history = simple_lstm_model.fit(train_data, epochs=EPOCHS,\n",
        "                                      steps_per_epoch=EVALUATION_INTERVAL,\n",
        "                                      validation_data=val_data, validation_steps=50)  # ,callbacks=[tensorboard_callback]) #Uncomment this line for tensorboa"
      ],
      "metadata": {
        "id": "9BIMCizFfpZK",
        "colab": {
          "base_uri": "https://localhost:8080/",
          "height": 491
        },
        "outputId": "803d953f-1ac8-44db-fa36-6b643777584f"
      },
      "execution_count": 40,
      "outputs": [
        {
          "output_type": "stream",
          "name": "stdout",
          "text": [
            "Epoch 1/5\n"
          ]
        },
        {
          "output_type": "error",
          "ename": "UnknownError",
          "evalue": "ignored",
          "traceback": [
            "\u001b[0;31m---------------------------------------------------------------------------\u001b[0m",
            "\u001b[0;31mUnknownError\u001b[0m                              Traceback (most recent call last)",
            "\u001b[0;32m<ipython-input-40-f07603ae7e18>\u001b[0m in \u001b[0;36m<module>\u001b[0;34m()\u001b[0m\n\u001b[1;32m      4\u001b[0m model_history = simple_lstm_model.fit(train_data, epochs=EPOCHS,\n\u001b[1;32m      5\u001b[0m                                       \u001b[0msteps_per_epoch\u001b[0m\u001b[0;34m=\u001b[0m\u001b[0mEVALUATION_INTERVAL\u001b[0m\u001b[0;34m,\u001b[0m\u001b[0;34m\u001b[0m\u001b[0;34m\u001b[0m\u001b[0m\n\u001b[0;32m----> 6\u001b[0;31m                                       validation_data=val_data, validation_steps=50)  # ,callbacks=[tensorboard_callback]) #Uncomment this line for tensorboa\n\u001b[0m",
            "\u001b[0;32m/usr/local/lib/python3.7/dist-packages/tensorflow/python/keras/engine/training.py\u001b[0m in \u001b[0;36mfit\u001b[0;34m(self, x, y, batch_size, epochs, verbose, callbacks, validation_split, validation_data, shuffle, class_weight, sample_weight, initial_epoch, steps_per_epoch, validation_steps, validation_batch_size, validation_freq, max_queue_size, workers, use_multiprocessing)\u001b[0m\n\u001b[1;32m   1176\u001b[0m                 _r=1):\n\u001b[1;32m   1177\u001b[0m               \u001b[0mcallbacks\u001b[0m\u001b[0;34m.\u001b[0m\u001b[0mon_train_batch_begin\u001b[0m\u001b[0;34m(\u001b[0m\u001b[0mstep\u001b[0m\u001b[0;34m)\u001b[0m\u001b[0;34m\u001b[0m\u001b[0;34m\u001b[0m\u001b[0m\n\u001b[0;32m-> 1178\u001b[0;31m               \u001b[0mtmp_logs\u001b[0m \u001b[0;34m=\u001b[0m \u001b[0mself\u001b[0m\u001b[0;34m.\u001b[0m\u001b[0mtrain_function\u001b[0m\u001b[0;34m(\u001b[0m\u001b[0miterator\u001b[0m\u001b[0;34m)\u001b[0m\u001b[0;34m\u001b[0m\u001b[0;34m\u001b[0m\u001b[0m\n\u001b[0m\u001b[1;32m   1179\u001b[0m               \u001b[0;32mif\u001b[0m \u001b[0mdata_handler\u001b[0m\u001b[0;34m.\u001b[0m\u001b[0mshould_sync\u001b[0m\u001b[0;34m:\u001b[0m\u001b[0;34m\u001b[0m\u001b[0;34m\u001b[0m\u001b[0m\n\u001b[1;32m   1180\u001b[0m                 \u001b[0mcontext\u001b[0m\u001b[0;34m.\u001b[0m\u001b[0masync_wait\u001b[0m\u001b[0;34m(\u001b[0m\u001b[0;34m)\u001b[0m\u001b[0;34m\u001b[0m\u001b[0;34m\u001b[0m\u001b[0m\n",
            "\u001b[0;32m/usr/local/lib/python3.7/dist-packages/tensorflow/python/eager/def_function.py\u001b[0m in \u001b[0;36m__call__\u001b[0;34m(self, *args, **kwds)\u001b[0m\n\u001b[1;32m    887\u001b[0m \u001b[0;34m\u001b[0m\u001b[0m\n\u001b[1;32m    888\u001b[0m       \u001b[0;32mwith\u001b[0m \u001b[0mOptionalXlaContext\u001b[0m\u001b[0;34m(\u001b[0m\u001b[0mself\u001b[0m\u001b[0;34m.\u001b[0m\u001b[0m_jit_compile\u001b[0m\u001b[0;34m)\u001b[0m\u001b[0;34m:\u001b[0m\u001b[0;34m\u001b[0m\u001b[0;34m\u001b[0m\u001b[0m\n\u001b[0;32m--> 889\u001b[0;31m         \u001b[0mresult\u001b[0m \u001b[0;34m=\u001b[0m \u001b[0mself\u001b[0m\u001b[0;34m.\u001b[0m\u001b[0m_call\u001b[0m\u001b[0;34m(\u001b[0m\u001b[0;34m*\u001b[0m\u001b[0margs\u001b[0m\u001b[0;34m,\u001b[0m \u001b[0;34m**\u001b[0m\u001b[0mkwds\u001b[0m\u001b[0;34m)\u001b[0m\u001b[0;34m\u001b[0m\u001b[0;34m\u001b[0m\u001b[0m\n\u001b[0m\u001b[1;32m    890\u001b[0m \u001b[0;34m\u001b[0m\u001b[0m\n\u001b[1;32m    891\u001b[0m       \u001b[0mnew_tracing_count\u001b[0m \u001b[0;34m=\u001b[0m \u001b[0mself\u001b[0m\u001b[0;34m.\u001b[0m\u001b[0mexperimental_get_tracing_count\u001b[0m\u001b[0;34m(\u001b[0m\u001b[0;34m)\u001b[0m\u001b[0;34m\u001b[0m\u001b[0;34m\u001b[0m\u001b[0m\n",
            "\u001b[0;32m/usr/local/lib/python3.7/dist-packages/tensorflow/python/eager/def_function.py\u001b[0m in \u001b[0;36m_call\u001b[0;34m(self, *args, **kwds)\u001b[0m\n\u001b[1;32m    915\u001b[0m       \u001b[0;31m# In this case we have created variables on the first call, so we run the\u001b[0m\u001b[0;34m\u001b[0m\u001b[0;34m\u001b[0m\u001b[0;34m\u001b[0m\u001b[0m\n\u001b[1;32m    916\u001b[0m       \u001b[0;31m# defunned version which is guaranteed to never create variables.\u001b[0m\u001b[0;34m\u001b[0m\u001b[0;34m\u001b[0m\u001b[0;34m\u001b[0m\u001b[0m\n\u001b[0;32m--> 917\u001b[0;31m       \u001b[0;32mreturn\u001b[0m \u001b[0mself\u001b[0m\u001b[0;34m.\u001b[0m\u001b[0m_stateless_fn\u001b[0m\u001b[0;34m(\u001b[0m\u001b[0;34m*\u001b[0m\u001b[0margs\u001b[0m\u001b[0;34m,\u001b[0m \u001b[0;34m**\u001b[0m\u001b[0mkwds\u001b[0m\u001b[0;34m)\u001b[0m  \u001b[0;31m# pylint: disable=not-callable\u001b[0m\u001b[0;34m\u001b[0m\u001b[0;34m\u001b[0m\u001b[0m\n\u001b[0m\u001b[1;32m    918\u001b[0m     \u001b[0;32melif\u001b[0m \u001b[0mself\u001b[0m\u001b[0;34m.\u001b[0m\u001b[0m_stateful_fn\u001b[0m \u001b[0;32mis\u001b[0m \u001b[0;32mnot\u001b[0m \u001b[0;32mNone\u001b[0m\u001b[0;34m:\u001b[0m\u001b[0;34m\u001b[0m\u001b[0;34m\u001b[0m\u001b[0m\n\u001b[1;32m    919\u001b[0m       \u001b[0;31m# Release the lock early so that multiple threads can perform the call\u001b[0m\u001b[0;34m\u001b[0m\u001b[0;34m\u001b[0m\u001b[0;34m\u001b[0m\u001b[0m\n",
            "\u001b[0;32m/usr/local/lib/python3.7/dist-packages/tensorflow/python/eager/function.py\u001b[0m in \u001b[0;36m__call__\u001b[0;34m(self, *args, **kwargs)\u001b[0m\n\u001b[1;32m   3022\u001b[0m        filtered_flat_args) = self._maybe_define_function(args, kwargs)\n\u001b[1;32m   3023\u001b[0m     return graph_function._call_flat(\n\u001b[0;32m-> 3024\u001b[0;31m         filtered_flat_args, captured_inputs=graph_function.captured_inputs)  # pylint: disable=protected-access\n\u001b[0m\u001b[1;32m   3025\u001b[0m \u001b[0;34m\u001b[0m\u001b[0m\n\u001b[1;32m   3026\u001b[0m   \u001b[0;34m@\u001b[0m\u001b[0mproperty\u001b[0m\u001b[0;34m\u001b[0m\u001b[0;34m\u001b[0m\u001b[0m\n",
            "\u001b[0;32m/usr/local/lib/python3.7/dist-packages/tensorflow/python/eager/function.py\u001b[0m in \u001b[0;36m_call_flat\u001b[0;34m(self, args, captured_inputs, cancellation_manager)\u001b[0m\n\u001b[1;32m   1959\u001b[0m       \u001b[0;31m# No tape is watching; skip to running the function.\u001b[0m\u001b[0;34m\u001b[0m\u001b[0;34m\u001b[0m\u001b[0;34m\u001b[0m\u001b[0m\n\u001b[1;32m   1960\u001b[0m       return self._build_call_outputs(self._inference_function.call(\n\u001b[0;32m-> 1961\u001b[0;31m           ctx, args, cancellation_manager=cancellation_manager))\n\u001b[0m\u001b[1;32m   1962\u001b[0m     forward_backward = self._select_forward_and_backward_functions(\n\u001b[1;32m   1963\u001b[0m         \u001b[0margs\u001b[0m\u001b[0;34m,\u001b[0m\u001b[0;34m\u001b[0m\u001b[0;34m\u001b[0m\u001b[0m\n",
            "\u001b[0;32m/usr/local/lib/python3.7/dist-packages/tensorflow/python/eager/function.py\u001b[0m in \u001b[0;36mcall\u001b[0;34m(self, ctx, args, cancellation_manager)\u001b[0m\n\u001b[1;32m    594\u001b[0m               \u001b[0minputs\u001b[0m\u001b[0;34m=\u001b[0m\u001b[0margs\u001b[0m\u001b[0;34m,\u001b[0m\u001b[0;34m\u001b[0m\u001b[0;34m\u001b[0m\u001b[0m\n\u001b[1;32m    595\u001b[0m               \u001b[0mattrs\u001b[0m\u001b[0;34m=\u001b[0m\u001b[0mattrs\u001b[0m\u001b[0;34m,\u001b[0m\u001b[0;34m\u001b[0m\u001b[0;34m\u001b[0m\u001b[0m\n\u001b[0;32m--> 596\u001b[0;31m               ctx=ctx)\n\u001b[0m\u001b[1;32m    597\u001b[0m         \u001b[0;32melse\u001b[0m\u001b[0;34m:\u001b[0m\u001b[0;34m\u001b[0m\u001b[0;34m\u001b[0m\u001b[0m\n\u001b[1;32m    598\u001b[0m           outputs = execute.execute_with_cancellation(\n",
            "\u001b[0;32m/usr/local/lib/python3.7/dist-packages/tensorflow/python/eager/execute.py\u001b[0m in \u001b[0;36mquick_execute\u001b[0;34m(op_name, num_outputs, inputs, attrs, ctx, name)\u001b[0m\n\u001b[1;32m     58\u001b[0m     \u001b[0mctx\u001b[0m\u001b[0;34m.\u001b[0m\u001b[0mensure_initialized\u001b[0m\u001b[0;34m(\u001b[0m\u001b[0;34m)\u001b[0m\u001b[0;34m\u001b[0m\u001b[0;34m\u001b[0m\u001b[0m\n\u001b[1;32m     59\u001b[0m     tensors = pywrap_tfe.TFE_Py_Execute(ctx._handle, device_name, op_name,\n\u001b[0;32m---> 60\u001b[0;31m                                         inputs, attrs, num_outputs)\n\u001b[0m\u001b[1;32m     61\u001b[0m   \u001b[0;32mexcept\u001b[0m \u001b[0mcore\u001b[0m\u001b[0;34m.\u001b[0m\u001b[0m_NotOkStatusException\u001b[0m \u001b[0;32mas\u001b[0m \u001b[0me\u001b[0m\u001b[0;34m:\u001b[0m\u001b[0;34m\u001b[0m\u001b[0;34m\u001b[0m\u001b[0m\n\u001b[1;32m     62\u001b[0m     \u001b[0;32mif\u001b[0m \u001b[0mname\u001b[0m \u001b[0;32mis\u001b[0m \u001b[0;32mnot\u001b[0m \u001b[0;32mNone\u001b[0m\u001b[0;34m:\u001b[0m\u001b[0;34m\u001b[0m\u001b[0;34m\u001b[0m\u001b[0m\n",
            "\u001b[0;31mUnknownError\u001b[0m:    Fail to find the dnn implementation.\n\t [[{{node CudnnRNN}}]]\n\t [[sequential_4/lstm_4/PartitionedCall]] [Op:__inference_train_function_13305]\n\nFunction call stack:\ntrain_function -> train_function -> train_function\n"
          ]
        }
      ]
    },
    {
      "cell_type": "markdown",
      "source": [
        "<h2>DeepAR\n"
      ],
      "metadata": {
        "id": "ccKBQc_Dksza"
      }
    },
    {
      "cell_type": "code",
      "source": [
        "features = ['dew', 'temp', 'press', 'wnd_spd', 'snow', 'rain',\n",
        "            'pollution_yesterday', 'hour', 'dayofweek', 'quarter', 'month',\n",
        "            'year', 'dayofyear', 'sin_day', 'cos_day', 'dayofmonth', 'weekofyear']\n",
        "\n",
        "scaler = StandardScaler()\n",
        "scaler.fit(X_train)  # No cheating, never scale on the training+test!\n",
        "df_training[features] = scaler.transform(df_training[features])\n",
        "df_test[features] = scaler.transform(df_test[features])\n",
        "\n",
        "\n",
        "training_data = ListDataset(\n",
        "    [{\"start\": df_training.index[0], \"target\": df_training.pollution_today,\n",
        "      'feat_dynamic_real': [df_training[feature] for feature in features]\n",
        "      }],\n",
        "    freq=\"d\"\n",
        ")\n",
        "test_data = ListDataset(\n",
        "    [{\"start\": df_test.index[0], \"target\": df_test.pollution_today,\n",
        "      'feat_dynamic_real': [df_test[feature] for feature in features]\n",
        "      }],\n",
        "    freq=\"d\"\n",
        ")"
      ],
      "metadata": {
        "id": "daMMtIRFjJf3"
      },
      "execution_count": 42,
      "outputs": []
    },
    {
      "cell_type": "code",
      "source": [
        "estimator = DeepAREstimator(freq=\"d\",\n",
        "                            prediction_length=1, context_length=30,\n",
        "                            trainer=Trainer(epochs=5))\n",
        "\n",
        "predictor = estimator.train(training_data=training_data)\n",
        "\n",
        "\n",
        "forecast_it, ts_it = make_evaluation_predictions(\n",
        "    test_data, predictor=predictor, num_samples=len(df_test))\n",
        "\n",
        "forecasts = list(forecast_it)\n",
        "tss = list(ts_it)"
      ],
      "metadata": {
        "colab": {
          "base_uri": "https://localhost:8080/"
        },
        "id": "xkCzsIYLkv46",
        "outputId": "73b5844d-c884-46f3-ba43-2198b1f0a61d"
      },
      "execution_count": 43,
      "outputs": [
        {
          "output_type": "stream",
          "name": "stderr",
          "text": [
            "INFO:gluonts.trainer:Start model training\n",
            "INFO:gluonts.trainer:Epoch[0] Learning rate is 0.001\n",
            "  0%|          | 0/50 [00:00<?, ?it/s]"
          ]
        },
        {
          "output_type": "stream",
          "name": "stdout",
          "text": [
            "learning rate from ``lr_scheduler`` has been overwritten by ``learning_rate`` in optimizer.\n"
          ]
        },
        {
          "output_type": "stream",
          "name": "stderr",
          "text": [
            "INFO:gluonts.trainer:Number of parameters in DeepARTrainingNetwork: 25884\n",
            "100%|██████████| 50/50 [00:06<00:00,  7.70it/s, epoch=1/5, avg_epoch_loss=5.72]\n",
            "INFO:gluonts.trainer:Epoch[0] Elapsed time 6.497 seconds\n",
            "INFO:gluonts.trainer:Epoch[0] Evaluation metric 'epoch_loss'=5.717175\n",
            "INFO:gluonts.trainer:Epoch[1] Learning rate is 0.001\n",
            "100%|██████████| 50/50 [00:09<00:00,  5.41it/s, epoch=2/5, avg_epoch_loss=5.52]\n",
            "INFO:gluonts.trainer:Epoch[1] Elapsed time 9.261 seconds\n",
            "INFO:gluonts.trainer:Epoch[1] Evaluation metric 'epoch_loss'=5.516110\n",
            "INFO:gluonts.trainer:Epoch[2] Learning rate is 0.001\n",
            "100%|██████████| 50/50 [00:05<00:00,  9.97it/s, epoch=3/5, avg_epoch_loss=5.44]\n",
            "INFO:gluonts.trainer:Epoch[2] Elapsed time 5.017 seconds\n",
            "INFO:gluonts.trainer:Epoch[2] Evaluation metric 'epoch_loss'=5.441513\n",
            "INFO:gluonts.trainer:Epoch[3] Learning rate is 0.001\n",
            "100%|██████████| 50/50 [00:03<00:00, 15.13it/s, epoch=4/5, avg_epoch_loss=5.35]\n",
            "INFO:gluonts.trainer:Epoch[3] Elapsed time 3.310 seconds\n",
            "INFO:gluonts.trainer:Epoch[3] Evaluation metric 'epoch_loss'=5.348863\n",
            "INFO:gluonts.trainer:Epoch[4] Learning rate is 0.001\n",
            "100%|██████████| 50/50 [00:03<00:00, 15.14it/s, epoch=5/5, avg_epoch_loss=5.28]\n",
            "INFO:gluonts.trainer:Epoch[4] Elapsed time 3.308 seconds\n",
            "INFO:gluonts.trainer:Epoch[4] Evaluation metric 'epoch_loss'=5.279413\n",
            "INFO:root:Computing averaged parameters.\n",
            "INFO:root:Loading averaged parameters.\n",
            "INFO:gluonts.trainer:End model training\n"
          ]
        }
      ]
    },
    {
      "cell_type": "code",
      "source": [
        "yhat = forecasts[0].samples.reshape(1, -1)[0]\n",
        "resultsDict['DeepAR'] = evaluate(y_test, yhat)\n",
        "predictionsDict['DeepAR'] = yhat"
      ],
      "metadata": {
        "id": "4IDzj9AXk0We"
      },
      "execution_count": 44,
      "outputs": []
    },
    {
      "cell_type": "markdown",
      "source": [
        "<h1>Appendix\n",
        "<br>\n",
        "\n",
        "<h2>Hyperparameter optimization\n",
        "<br>\n",
        "\n",
        "We have seen models with really low amount of parameters (Auto regression models,Linear models) or with crazy ammount (Trees,Prophet). Some models are more robust to different data types/shapes and dont need any hyperparameter optimization but some other can give you poor results if the parameters are not tunned, we can tune the model parameters to better fit our dataset properties. We can do this manually with pure knowledge about the model but this becames really hard when the model contains a lot of different parameters, this is when hyperparameter optimization comes handy.\n",
        "\n",
        "Hyperparameter optimization is trying to find the best parameters in an automatic way. We present two methods that are used frequently:\n",
        "\n",
        "- Grid search Brute force method to try all different possible combinations of parameters. \n",
        "- Will always find the best combination\n",
        "Bayesian processes \"Brute\" force method, optimizes parameter search by using gausian processes to model each parameter distribution and don't go over all the possible values. Really nice library for python https://github.com/fmfn/BayesianOptimization, this method will not always find the best combination of parameters\n",
        "\n",
        "We provide 1 example for each method"
      ],
      "metadata": {
        "id": "YClQ5nDvlASy"
      }
    },
    {
      "cell_type": "markdown",
      "source": [
        "<h2> Grid search - SVM\n"
      ],
      "metadata": {
        "id": "CPNNwyQAlUry"
      }
    },
    {
      "cell_type": "code",
      "source": [
        "reg = GridSearchCV(svm.SVR(kernel='rbf', gamma=0.1),\n",
        "                   param_grid={\"C\": [1e0, 1e1, 1e2, 1e3],\n",
        "                               \"gamma\": np.logspace(-2, 2, 5)})\n",
        "reg.fit(X_train, y_train)\n",
        "yhat = reg.predict(X_test)\n",
        "resultsDict['SVM RBF GRID SEARCH'] = evaluate(df_test.pollution_today, yhat)\n",
        "predictionsDict['SVM RBF GRID SEARCH'] = yhat"
      ],
      "metadata": {
        "id": "243vsQpck2Y7"
      },
      "execution_count": 45,
      "outputs": []
    },
    {
      "cell_type": "code",
      "source": [
        "increase = 1 - (resultsDict['SVM RBF GRID SEARCH']\n",
        "                ['rmse']/resultsDict['SVM RBF']['rmse'])\n",
        "print(\n",
        "    f\"Grid search Tunned SVM is {increase*100}% better than the SVM with default parameters\")"
      ],
      "metadata": {
        "colab": {
          "base_uri": "https://localhost:8080/"
        },
        "id": "MfA82LTPlZW-",
        "outputId": "21584a7c-93dd-419b-c259-7b8c133aee9a"
      },
      "execution_count": 46,
      "outputs": [
        {
          "output_type": "stream",
          "name": "stdout",
          "text": [
            "Grid search Tunned SVM is 10.159656242353943% better than the SVM with default parameters\n"
          ]
        }
      ]
    },
    {
      "cell_type": "markdown",
      "source": [
        "<h2>Bayesian processes - Xgboost\n"
      ],
      "metadata": {
        "id": "TgUBqaMZlcfa"
      }
    },
    {
      "cell_type": "code",
      "source": [
        "def rms(y_actual, y_predicted):\n",
        "    return sqrt(mean_squared_error(y_actual, y_predicted))\n",
        "\n",
        "\n",
        "my_scorer = make_scorer(rms, greater_is_better=False)\n",
        "pbounds = {\n",
        "    'n_estimators': (100, 10000),\n",
        "    'max_depth': (3, 15),\n",
        "    'min_samples_leaf': (1, 4),\n",
        "    'min_samples_split': (2, 10),\n",
        "}\n",
        "\n",
        "\n",
        "def rf_hyper_param(n_estimators,\n",
        "                   max_depth,\n",
        "                   min_samples_leaf,\n",
        "                   min_samples_split):\n",
        "\n",
        "    max_depth = int(max_depth)\n",
        "    n_estimators = int(n_estimators)\n",
        "\n",
        "    clf = RandomForestRegressor(n_estimators=n_estimators,\n",
        "                                max_depth=int(max_depth),\n",
        "                                min_samples_leaf=int(min_samples_leaf),\n",
        "                                min_samples_split=int(min_samples_split),\n",
        "                                n_jobs=1)\n",
        "\n",
        "    return -np.mean(cross_val_score(clf, X_train, y_train, cv=3))\n",
        "\n",
        "\n",
        "optimizer = BayesianOptimization(\n",
        "    f=rf_hyper_param,\n",
        "    pbounds=pbounds,\n",
        "    random_state=1,\n",
        ")"
      ],
      "metadata": {
        "id": "w6XOpy6Ala2M"
      },
      "execution_count": 47,
      "outputs": []
    },
    {
      "cell_type": "code",
      "source": [
        "optimizer.maximize(\n",
        "    init_points=3,\n",
        "    n_iter=20,\n",
        "    acq='ei'\n",
        ")"
      ],
      "metadata": {
        "colab": {
          "base_uri": "https://localhost:8080/"
        },
        "id": "n899WEsZlf6U",
        "outputId": "e94da68b-283f-4997-e63c-393c441e278c"
      },
      "execution_count": null,
      "outputs": [
        {
          "output_type": "stream",
          "name": "stdout",
          "text": [
            "|   iter    |  target   | max_depth | min_sa... | min_sa... | n_esti... |\n",
            "-------------------------------------------------------------------------\n",
            "| \u001b[0m 1       \u001b[0m | \u001b[0m-0.5476  \u001b[0m | \u001b[0m 8.004   \u001b[0m | \u001b[0m 3.161   \u001b[0m | \u001b[0m 2.001   \u001b[0m | \u001b[0m 3.093e+0\u001b[0m |\n",
            "| \u001b[95m 2       \u001b[0m | \u001b[95m-0.5114  \u001b[0m | \u001b[95m 4.761   \u001b[0m | \u001b[95m 1.277   \u001b[0m | \u001b[95m 3.49    \u001b[0m | \u001b[95m 3.521e+0\u001b[0m |\n",
            "| \u001b[0m 3       \u001b[0m | \u001b[0m-0.5457  \u001b[0m | \u001b[0m 7.761   \u001b[0m | \u001b[0m 2.616   \u001b[0m | \u001b[0m 5.354   \u001b[0m | \u001b[0m 6.884e+0\u001b[0m |\n",
            "| \u001b[95m 4       \u001b[0m | \u001b[95m-0.5073  \u001b[0m | \u001b[95m 4.298   \u001b[0m | \u001b[95m 3.175   \u001b[0m | \u001b[95m 5.441   \u001b[0m | \u001b[95m 3.52e+03\u001b[0m |\n",
            "| \u001b[0m 5       \u001b[0m | \u001b[0m-0.5371  \u001b[0m | \u001b[0m 6.967   \u001b[0m | \u001b[0m 3.363   \u001b[0m | \u001b[0m 8.526   \u001b[0m | \u001b[0m 3.513e+0\u001b[0m |\n",
            "| \u001b[0m 6       \u001b[0m | \u001b[0m-0.5377  \u001b[0m | \u001b[0m 6.78    \u001b[0m | \u001b[0m 3.027   \u001b[0m | \u001b[0m 7.552   \u001b[0m | \u001b[0m 3.523e+0\u001b[0m |\n"
          ]
        }
      ]
    },
    {
      "cell_type": "code",
      "source": [
        "params = optimizer.max['params']\n",
        "\n",
        "# Converting the max_depth and n_estimator values from float to int\n",
        "params['max_depth'] = int(params['max_depth'])\n",
        "params['n_estimators'] = int(params['n_estimators'])\n",
        "params['min_samples_leaf'] = int(params['min_samples_leaf'])\n",
        "params['min_samples_split'] = int(params['min_samples_split'])\n",
        "\n",
        "# Initialize an XGBRegressor with the tuned parameters and fit the training data\n",
        "tunned_rf = RandomForestRegressor(**params)\n",
        "# Change verbose to True if you want to see it train\n",
        "tunned_rf.fit(X_train, y_train)\n",
        "\n",
        "yhat = tunned_rf.predict(X_test)\n",
        "resultsDict['Randomforest tunned'] = evaluate(y_test, yhat)"
      ],
      "metadata": {
        "id": "CD66bE1qlhom"
      },
      "execution_count": null,
      "outputs": []
    },
    {
      "cell_type": "code",
      "source": [
        "increase = 1 - (resultsDict['Randomforest tunned']\n",
        "                ['rmse']/resultsDict['Randomforest']['rmse'])\n",
        "print(\n",
        "    f\"Bayesian optimized Randomforest is {increase*100}% better than the Randomforest with default parameters\")"
      ],
      "metadata": {
        "id": "uuw9TC0aljbh"
      },
      "execution_count": null,
      "outputs": []
    },
    {
      "cell_type": "markdown",
      "source": [
        "<h2>Ensembling"
      ],
      "metadata": {
        "id": "2nJGtFaFlmph"
      }
    },
    {
      "cell_type": "code",
      "source": [
        "models = ['Tensorflow simple LSTM',\n",
        "          'Lightgbm',\n",
        "          'XGBoost']\n",
        "resis = pd.DataFrame(data={k: df_test.pollution_today.values -\n",
        "                     v for k, v in predictionsDict.items()})[models]\n",
        "corr = resis.corr()\n",
        "print(\"Residuals correlation\")\n",
        "corr.style.background_gradient(cmap='coolwarm')"
      ],
      "metadata": {
        "id": "-oF8j0JellMP"
      },
      "execution_count": null,
      "outputs": []
    },
    {
      "cell_type": "markdown",
      "source": [
        "We can see how both tree models are a bit similar ~0.87 but quite different from the Deep Learning model with corr ~0.7. In this case it would really make sense to ensemble the methods and see how they behave. The most reasonable combinations to try would be\n",
        "\n",
        "- XGboost + Tensorflow\n",
        "- XGBoost + Lightgbm\n",
        "- Lightgbm + Tensorflow\n",
        "- XGBoost + Lightgbm + Tensorflow\n",
        "\n",
        "We will just sum the predictions of each model with similar weights (0.5 if two models, 0.333 if three)"
      ],
      "metadata": {
        "id": "jvQpXm6YluuQ"
      }
    },
    {
      "cell_type": "code",
      "source": [
        "predictionsDict['EnsembleXG+LIGHT'] = (\n",
        "    predictionsDict['XGBoost'] + predictionsDict['Lightgbm'])/2\n",
        "resultsDict['EnsembleXG+LIGHT'] = evaluate(\n",
        "    df_test.pollution_today.values, predictionsDict['EnsembleXG+LIGHT'])\n",
        "\n",
        "predictionsDict['EnsembleXG+LIGHT+TF'] = (predictionsDict['XGBoost'] +\n",
        "                                          predictionsDict['Lightgbm'] + predictionsDict['Tensorflow simple LSTM'])/3\n",
        "resultsDict['EnsembleXG+LIGHT+TF'] = evaluate(\n",
        "    df_test.pollution_today.values, predictionsDict['EnsembleXG+LIGHT+TF'])\n",
        "\n",
        "predictionsDict['EnsembleLIGHT+TF'] = (\n",
        "    predictionsDict['Lightgbm'] + predictionsDict['Tensorflow simple LSTM'])/2\n",
        "resultsDict['EnsembleLIGHT+TF'] = evaluate(\n",
        "    df_test.pollution_today.values, predictionsDict['EnsembleLIGHT+TF'])\n",
        "\n",
        "predictionsDict['EnsembleXG+TF'] = (predictionsDict['XGBoost'] +\n",
        "                                    predictionsDict['Tensorflow simple LSTM'])/2\n",
        "resultsDict['EnsembleXG+TF'] = evaluate(\n",
        "    df_test.pollution_today.values, predictionsDict['EnsembleXG+TF'])"
      ],
      "metadata": {
        "id": "252oz3xhlr3j"
      },
      "execution_count": null,
      "outputs": []
    },
    {
      "cell_type": "code",
      "source": [
        "with open('results/scores.pickle', 'wb') as handle:\n",
        "    pickle.dump(resultsDict, handle, protocol=pickle.HIGHEST_PROTOCOL)\n",
        "\n",
        "with open('results/predictions.pickle', 'wb') as handle:\n",
        "    pickle.dump(predictionsDict, handle, protocol=pickle.HIGHEST_PROTOCOL)"
      ],
      "metadata": {
        "id": "76KOsLmXl2Vs"
      },
      "execution_count": null,
      "outputs": []
    },
    {
      "cell_type": "code",
      "source": [
        ""
      ],
      "metadata": {
        "id": "oe6S8BXVl34I"
      },
      "execution_count": null,
      "outputs": []
    }
  ]
}